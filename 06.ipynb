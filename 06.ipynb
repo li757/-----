{
 "cells": [
  {
   "cell_type": "markdown",
   "metadata": {},
   "source": [
    "<small><font style=\"font-size:6pt\"> <i>\n",
    "All of these python notebooks are available at https://gitlab.erc.monash.edu.au/andrease/Python4Maths.git </i>\n",
    "</font></small>"
   ]
  },
  {
   "cell_type": "markdown",
   "metadata": {},
   "source": [
    "# 函数"
   ]
  },
  {
   "cell_type": "markdown",
   "metadata": {},
   "source": [
    "函数可以表示数学函数。更重要的是，在程序设计中，函数是一种允许代码重用的机制，这样复杂的程序就可以用更简单的部分来构建。\n",
    "\n",
    "**重要的是：** *开始写一个python程序时，只写几行代码，边写边测试是很好的，但一个常见的初学者的错误就是一直这样做。你不希望在一个长长的文件/笔记本里有一个由20000行代码组成的程序。想想看，功能就像英语写作中的段落。每当你开始一个新的想法，就开始一个新的函数。这样做会使你的代码更易读，更容易调试，最终以最初写代码时可能没有预料到的方式重复使用代码的部分内容。*"
   ]
  },
  {
   "cell_type": "markdown",
   "metadata": {},
   "source": [
    "函数的基本语法\n",
    "\n",
    "```python\n",
    "def funcname(arg1, arg2,... argN):\n",
    "    ''' Document String'''\n",
    "    statements\n",
    "    return value```"
   ]
  },
  {
   "cell_type": "markdown",
   "metadata": {},
   "source": [
    "将上面的语法理解为，定义了一个名为 \"funcname \"的函数，它接受参数 \"arg1,arg2,......argN\"。函数操作 '''Document String'''是记录文档，函数在执行语句后返回一个 \"value\"。\n",
    "\n",
    "返回值是可选的（默认情况下，每个函数都会返回 'None'（一个特殊的对象，相当于 'False'），如果没有执行返回语句，则返回 'None'。"
   ]
  },
  {
   "cell_type": "markdown",
   "metadata": {},
   "source": [
    "```python\n",
    "print(\"Hello Jack.\")\n",
    "print(\"Jack, how are you?\")\n",
    "```"
   ]
  },
  {
   "cell_type": "code",
   "execution_count": null,
   "metadata": {},
   "outputs": [],
   "source": []
  },
  {
   "cell_type": "markdown",
   "metadata": {},
   "source": [
    "与其每次都写上面的两条语句，还可以通过定义一个函数来代替，只需一行就能完成任务。\n",
    "\n",
    "定义一个函数firstfunc()。"
   ]
  },
  {
   "cell_type": "markdown",
   "metadata": {},
   "source": [
    "```python\n",
    "def firstfunc():\n",
    "    print(\"Hello Jack.\")\n",
    "    print(\"Jack, how are you?\")\n",
    "firstfunc() # 执行函数\n",
    "```"
   ]
  },
  {
   "cell_type": "code",
   "execution_count": null,
   "metadata": {},
   "outputs": [],
   "source": []
  },
  {
   "cell_type": "markdown",
   "metadata": {},
   "source": [
    "`firstfunc()`只是每次打印消息给一个人。我们可以让我们的函数`firstfunc()`接受参数，它将存储名字，然后将消息打印到这个名字上。要做到这一点，在函数中添加一个参数，如下所示。"
   ]
  },
  {
   "cell_type": "markdown",
   "metadata": {},
   "source": [
    "```python\n",
    "def firstfunc(username):\n",
    "    print(\"Hello %s.\" % username)\n",
    "    print(username + ',' ,\"how are you?\")\n",
    "    ```"
   ]
  },
  {
   "cell_type": "code",
   "execution_count": null,
   "metadata": {},
   "outputs": [],
   "source": []
  },
  {
   "cell_type": "markdown",
   "metadata": {},
   "source": [
    "```python\n",
    "name1 = 'Sally' # or use input('Please enter your name : ')\n",
    "```"
   ]
  },
  {
   "cell_type": "code",
   "execution_count": null,
   "metadata": {},
   "outputs": [],
   "source": []
  },
  {
   "cell_type": "markdown",
   "metadata": {},
   "source": [
    "所以我们将这个变量作为变量username传递给函数`firstfunc()`，因为这是为这个函数定义的变量。例如， name1作为用户名传递。"
   ]
  },
  {
   "cell_type": "markdown",
   "metadata": {},
   "source": [
    "```python\n",
    "firstfunc(name1)\n",
    "```"
   ]
  },
  {
   "cell_type": "code",
   "execution_count": null,
   "metadata": {},
   "outputs": [],
   "source": []
  },
  {
   "cell_type": "markdown",
   "metadata": {},
   "source": [
    "## 返回语句"
   ]
  },
  {
   "cell_type": "markdown",
   "metadata": {},
   "source": [
    "当函数产生一些值，而这个值需要存储在一个变量中，或者需要送回或返回给主算法进行进一步的操作时，就会使用返回语句。"
   ]
  },
  {
   "cell_type": "markdown",
   "metadata": {},
   "source": [
    "```python\n",
    "def times(x,y):\n",
    "    z = x*y\n",
    "    return z\n",
    "    z = 17 # 这个语句永不会执行\n",
    "    ```"
   ]
  },
  {
   "cell_type": "code",
   "execution_count": null,
   "metadata": {},
   "outputs": [],
   "source": []
  },
  {
   "cell_type": "markdown",
   "metadata": {},
   "source": [
    "上面定义的`times()`函数接受两个参数，并返回包含两个参数乘积结果的变量z。"
   ]
  },
  {
   "cell_type": "markdown",
   "metadata": {},
   "source": [
    "```python\n",
    "c = times(4,5)\n",
    "print(c)\n",
    "```"
   ]
  },
  {
   "cell_type": "code",
   "execution_count": null,
   "metadata": {},
   "outputs": [],
   "source": []
  },
  {
   "cell_type": "markdown",
   "metadata": {},
   "source": [
    "z值被存储在变量c中，可用于进一步的操作。"
   ]
  },
  {
   "cell_type": "markdown",
   "metadata": {},
   "source": [
    "可以在返回语句中使用整个语句本身，而不是声明另一个变量，如下所示。"
   ]
  },
  {
   "cell_type": "markdown",
   "metadata": {},
   "source": [
    "```python\n",
    "def times(x,y):\n",
    "    '''This multiplies the two input arguments'''\n",
    "    return x*y\n",
    "```"
   ]
  },
  {
   "cell_type": "code",
   "execution_count": null,
   "metadata": {},
   "outputs": [],
   "source": []
  },
  {
   "cell_type": "markdown",
   "metadata": {},
   "source": [
    "```python\n",
    "c = times(4,5)\n",
    "print(c)\n",
    "```"
   ]
  },
  {
   "cell_type": "code",
   "execution_count": null,
   "metadata": {},
   "outputs": [],
   "source": []
  },
  {
   "cell_type": "markdown",
   "metadata": {},
   "source": [
    "既然`times()`现在已经定义了，我们可以如上所示，将其记录下来。每当在`help()`函数下调用`times()`函数时，都会返回此文档。"
   ]
  },
  {
   "cell_type": "markdown",
   "metadata": {},
   "source": [
    "```python\n",
    "help(times)\n",
    "```"
   ]
  },
  {
   "cell_type": "code",
   "execution_count": null,
   "metadata": {},
   "outputs": [],
   "source": []
  },
  {
   "cell_type": "markdown",
   "metadata": {},
   "source": [
    "多个变量也可以作为元组返回。然而，当返回许多值时，这往往不太可读，并且当返回值的顺序被错误地解释时，很容易引入新的错误。"
   ]
  },
  {
   "cell_type": "markdown",
   "metadata": {},
   "source": [
    "```python\n",
    "eglist = [10,50,30,12,6,8,100]\n",
    "```"
   ]
  },
  {
   "cell_type": "code",
   "execution_count": null,
   "metadata": {},
   "outputs": [],
   "source": []
  },
  {
   "cell_type": "markdown",
   "metadata": {},
   "source": [
    "```python\n",
    "def egfunc(eglist):\n",
    "    highest = max(eglist)\n",
    "    lowest = min(eglist)\n",
    "    first = eglist[0]\n",
    "    last = eglist[-1]\n",
    "    return highest,lowest,first,last\n",
    "```"
   ]
  },
  {
   "cell_type": "code",
   "execution_count": null,
   "metadata": {},
   "outputs": [],
   "source": []
  },
  {
   "cell_type": "markdown",
   "metadata": {},
   "source": [
    "如果只是调用函数而没有分配给任何变量，结果会在一个元组中返回。但是如果提到了变量，那么结果就会按照返回语句中声明的特定顺序分配给变量。"
   ]
  },
  {
   "cell_type": "markdown",
   "metadata": {},
   "source": [
    "```python\n",
    "egfunc(eglist)\n",
    "```"
   ]
  },
  {
   "cell_type": "code",
   "execution_count": null,
   "metadata": {},
   "outputs": [],
   "source": []
  },
  {
   "cell_type": "markdown",
   "metadata": {},
   "source": [
    "```python\n",
    "a,b,c,d = egfunc(eglist)\n",
    "print(' a =',a,' b =',b,' c =',c,' d =',d)\n",
    "```"
   ]
  },
  {
   "cell_type": "code",
   "execution_count": null,
   "metadata": {},
   "outputs": [],
   "source": []
  },
  {
   "cell_type": "markdown",
   "metadata": {},
   "source": [
    "## 默认参数"
   ]
  },
  {
   "cell_type": "markdown",
   "metadata": {},
   "source": [
    "当一个函数的参数在大多数情况下是通用的，可以用默认值来指定。这也被称为隐含参数。"
   ]
  },
  {
   "cell_type": "markdown",
   "metadata": {},
   "source": [
    "```python\n",
    "def implicitadd(x,y=3,z=0):\n",
    "    print(\"%d + %d + %d = %d\"%(x,y,z,x+y+z))\n",
    "    return x+y+z\n",
    "```"
   ]
  },
  {
   "cell_type": "code",
   "execution_count": null,
   "metadata": {},
   "outputs": [],
   "source": []
  },
  {
   "cell_type": "markdown",
   "metadata": {},
   "source": [
    "`implicitadd()`是一个最多接受三个参数的函数，但大多数情况下，第一个参数只需要加3，因此第二个参数被赋予3，第三个参数为0。这里的最后两个参数是默认参数。"
   ]
  },
  {
   "cell_type": "markdown",
   "metadata": {},
   "source": [
    "现在，如果在调用函数`implicitadd()`时没有定义第二个参数，那么它被认为是3。"
   ]
  },
  {
   "cell_type": "markdown",
   "metadata": {},
   "source": [
    "```python\n",
    "implicitadd(4)\n",
    "```"
   ]
  },
  {
   "cell_type": "code",
   "execution_count": null,
   "metadata": {},
   "outputs": [],
   "source": []
  },
  {
   "cell_type": "markdown",
   "metadata": {},
   "source": [
    "然而，我们可以用两个或三个参数来调用同一个函数。一个有用的功能是显式命名传递到函数中的参数值。这给了我们调用一个带可选参数的函数提供了很大的灵活性。以下所有的参数都是有效的。"
   ]
  },
  {
   "cell_type": "markdown",
   "metadata": {},
   "source": [
    "```python\n",
    "implicitadd(4,4)\n",
    "implicitadd(4,5,6)\n",
    "implicitadd(4,z=7)\n",
    "implicitadd(2,y=1,z=9)\n",
    "implicitadd(x=1)\n",
    "```"
   ]
  },
  {
   "cell_type": "code",
   "execution_count": null,
   "metadata": {},
   "outputs": [],
   "source": []
  },
  {
   "cell_type": "markdown",
   "metadata": {},
   "source": [
    "## 任意数量的参数"
   ]
  },
  {
   "cell_type": "markdown",
   "metadata": {},
   "source": [
    "如果一个函数所要接受的参数数量不知道，那么在参数名称前用星号来表示其余的参数。下面的函数至少需要一个参数，但可以有多个参数。"
   ]
  },
  {
   "cell_type": "markdown",
   "metadata": {},
   "source": [
    "```python\n",
    "def add_n(first,*args):\n",
    "    \"return the sum of one or more numbers\"\n",
    "    reslist = [first] + [value for value in args]\n",
    "    print(reslist)\n",
    "    return sum(reslist)\n",
    "```"
   ]
  },
  {
   "cell_type": "code",
   "execution_count": null,
   "metadata": {},
   "outputs": [],
   "source": []
  },
  {
   "cell_type": "markdown",
   "metadata": {},
   "source": [
    "上面的函数定义了所有参数的列表，打印出该列表并返回所有参数的总和。"
   ]
  },
  {
   "cell_type": "markdown",
   "metadata": {},
   "source": [
    "```python\n",
    "add_n(1,2,3,4,5)\n",
    "```"
   ]
  },
  {
   "cell_type": "code",
   "execution_count": null,
   "metadata": {},
   "outputs": [],
   "source": []
  },
  {
   "cell_type": "markdown",
   "metadata": {},
   "source": [
    "```python\n",
    "add_n(6.5)\n",
    "```"
   ]
  },
  {
   "cell_type": "code",
   "execution_count": null,
   "metadata": {},
   "outputs": [],
   "source": []
  },
  {
   "cell_type": "markdown",
   "metadata": {},
   "source": [
    "也可以使用`**`接受任意数量的命名参数。当函数被调用时，所有附加的命名参数都会在一个字典中提供。"
   ]
  },
  {
   "cell_type": "markdown",
   "metadata": {},
   "source": [
    "```python\n",
    "def namedArgs(**names):\n",
    "    'print the named arguments'\n",
    "    # names 是 keyword : value 形式的字典\n",
    "    print(\"  \".join(name+\"=\"+str(value) \n",
    "                    for name,value in names.items()))\n",
    "\n",
    "namedArgs(x=3*4,animal='mouse',z=(1+2j))\n",
    "```"
   ]
  },
  {
   "cell_type": "code",
   "execution_count": null,
   "metadata": {},
   "outputs": [],
   "source": []
  },
  {
   "cell_type": "markdown",
   "metadata": {},
   "source": [
    "##  全局和局部变量"
   ]
  },
  {
   "cell_type": "markdown",
   "metadata": {},
   "source": [
    "在函数内部声明的任何变量都是局部变量，在函数外部声明的变量是全局变量。"
   ]
  },
  {
   "cell_type": "markdown",
   "metadata": {},
   "source": [
    "```python\n",
    "eg1 = [1,2,3,4,5]\n",
    "```"
   ]
  },
  {
   "cell_type": "code",
   "execution_count": null,
   "metadata": {},
   "outputs": [],
   "source": []
  },
  {
   "cell_type": "markdown",
   "metadata": {},
   "source": [
    "在下面的函数中，我们将向函数中声明的列表追加一个元素。函数中声明的eg2变量是一个局部变量。"
   ]
  },
  {
   "cell_type": "markdown",
   "metadata": {},
   "source": [
    "```python\n",
    "def egfunc1():\n",
    "    x=1\n",
    "    def thirdfunc():\n",
    "        x=2\n",
    "        print(\"Inside thirdfunc x =\", x) \n",
    "    thirdfunc()\n",
    "    print(\"Outside x =\", x)\n",
    "    ```"
   ]
  },
  {
   "cell_type": "code",
   "execution_count": null,
   "metadata": {},
   "outputs": [],
   "source": []
  },
  {
   "cell_type": "markdown",
   "metadata": {},
   "source": [
    "```python\n",
    "x=12\n",
    "egfunc1()\n",
    "print(\"Global x =\",x)\n",
    "```"
   ]
  },
  {
   "cell_type": "code",
   "execution_count": null,
   "metadata": {},
   "outputs": [],
   "source": []
  },
  {
   "cell_type": "markdown",
   "metadata": {},
   "source": [
    "如下面的例子所示，定义了一个 `global`变量，则可以从任何地方调用该变量。全局值应该谨慎使用，因为它们使函数更难重用。"
   ]
  },
  {
   "cell_type": "markdown",
   "metadata": {},
   "source": [
    "```python\n",
    "eg3 = [1,2,3,4,5]\n",
    "```"
   ]
  },
  {
   "cell_type": "code",
   "execution_count": null,
   "metadata": {},
   "outputs": [],
   "source": []
  },
  {
   "cell_type": "markdown",
   "metadata": {},
   "source": [
    "```python\n",
    "def egfunc1():\n",
    "    x = 1.0 # egfunc1的局部变量\n",
    "    def thirdfunc():\n",
    "        global x # 定义全局变量 \n",
    "        x = 2.0\n",
    "        print(\"Inside thirdfunc x =\", x) \n",
    "    thirdfunc()\n",
    "    print(\"Outside x =\", x)\n",
    "    ```"
   ]
  },
  {
   "cell_type": "code",
   "execution_count": null,
   "metadata": {},
   "outputs": [],
   "source": []
  },
  {
   "cell_type": "markdown",
   "metadata": {},
   "source": [
    "```python\n",
    "egfunc1()\n",
    "print(\"Globally defined x =\",x)\n",
    "```"
   ]
  },
  {
   "cell_type": "code",
   "execution_count": null,
   "metadata": {},
   "outputs": [],
   "source": []
  },
  {
   "cell_type": "markdown",
   "metadata": {},
   "source": [
    "## Lambda函数"
   ]
  },
  {
   "cell_type": "markdown",
   "metadata": {},
   "source": [
    "这些都是没有定义任何名称的小函数，它们携带一个单一的表达式，其结果被返回。Lambda函数在使用列表操作时非常方便。这些函数由关键字`lambda`定义，后面是变量、冒号和表达式。"
   ]
  },
  {
   "cell_type": "markdown",
   "metadata": {},
   "source": [
    "```python\n",
    "z = lambda x: x * x\n",
    "```"
   ]
  },
  {
   "cell_type": "code",
   "execution_count": null,
   "metadata": {},
   "outputs": [],
   "source": []
  },
  {
   "cell_type": "markdown",
   "metadata": {},
   "source": [
    "```python\n",
    "z(8)\n",
    "```"
   ]
  },
  {
   "cell_type": "code",
   "execution_count": null,
   "metadata": {},
   "outputs": [],
   "source": []
  },
  {
   "cell_type": "markdown",
   "metadata": {},
   "source": [
    "### 组合函数"
   ]
  },
  {
   "cell_type": "markdown",
   "metadata": {},
   "source": [
    "Lambda函数也可用于组合函数"
   ]
  },
  {
   "cell_type": "markdown",
   "metadata": {},
   "source": [
    "```python\n",
    "def double(x):\n",
    "    return 2*x\n",
    "def square(x):\n",
    "    return x*x\n",
    "def f_of_g(f,g):\n",
    "    \"Compose two functions of a single variable\"\n",
    "    return lambda x: f(g(x))\n",
    "doublesquare= f_of_g(double,square)\n",
    "print(\"doublesquare is a\",type(doublesquare))\n",
    "doublesquare(3)\n",
    "```"
   ]
  },
  {
   "cell_type": "code",
   "execution_count": null,
   "metadata": {},
   "outputs": [],
   "source": []
  },
  {
   "cell_type": "markdown",
   "metadata": {
    "collapsed": true
   },
   "source": [
    "### 函数是对象\n",
    "函数是一种 \"value \"的类型，可以给变量赋值，存储在列表中等等。"
   ]
  },
  {
   "cell_type": "markdown",
   "metadata": {},
   "source": [
    "```python\n",
    "def f(x):\n",
    "    return 2*x**2 +3*x-5\n",
    "g = f\n",
    "print(\"g(3.6) =\",g(3.6) )\n",
    "\n",
    "for func in [f,square, double, doublesquare]:\n",
    "    print(\"evaluating at 2.0 yields:\", func(2.0) )\n",
    "    ```"
   ]
  },
  {
   "cell_type": "code",
   "execution_count": null,
   "metadata": {},
   "outputs": [],
   "source": []
  }
 ],
 "metadata": {
  "kernelspec": {
   "display_name": "Python 3",
   "language": "python",
   "name": "python3"
  },
  "language_info": {
   "codemirror_mode": {
    "name": "ipython",
    "version": 3
   },
   "file_extension": ".py",
   "mimetype": "text/x-python",
   "name": "python",
   "nbconvert_exporter": "python",
   "pygments_lexer": "ipython3",
   "version": "3.7.3"
  }
 },
 "nbformat": 4,
 "nbformat_minor": 1
}
