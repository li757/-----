{
 "cells": [
  {
   "cell_type": "markdown",
   "metadata": {},
   "source": [
    "# Python简介\n",
    "\n",
    "> 这些文档提供了一个相对简单的Python的主要功能概述。它们旨在为已经对如何用另一种语言编程有一定了解的学生提供一个速成课程。并不是Python的每一个方面都涵盖了，大部分的内容只是提供了在这门语言中可以做的事情的列表和一些简单的例子。"
   ]
  },
  {
   "cell_type": "markdown",
   "metadata": {},
   "source": [
    "## 简介\n",
    "\n",
    "Python是一种现代的、强健的、高水平的编程语言。即使你完全不懂编程，也很容易上手。\n",
    "\n",
    "与其他语言如matlab或R类似，Python是解释性的语言，因此与C++、Fortran或Java相比，运行速度较慢。然而，用Python编写程序是非常快的。Python 有一个非常大的库库，适用于从科学计算到网络服务的一切。它迎合了面向对象和函数式编程的需求，通过模块系统，可以用Python开发大型复杂的应用程序。\n",
    "\n",
    "这些讲解使用的是jupyter notebook，它将Python代码和文档混合在一起。这些Python笔记可以在Web服务器上运行，也可以在计算机上独立运行。\n",
    "\n",
    "为了说明Python代码是什么样子，这里有一段简单的代码，它定义了一个集合$N= {1,3,3,4,5,7}$，并计算这个集合的平方元素之和：$Sum_{i\\in N} i^2=100$"
   ]
  },
  {
   "cell_type": "code",
   "execution_count": 2,
   "metadata": {},
   "outputs": [
    {
     "name": "stdout",
     "output_type": "stream",
     "text": [
      "The sum of ∑_i∈N i*i = 164\n"
     ]
    }
   ],
   "source": [
    "N={1,3,4,5,7,8}\n",
    "print('The sum of ∑_i∈N i*i =',sum( i**2 for i in N ) )"
   ]
  },
  {
   "cell_type": "markdown",
   "metadata": {},
   "source": [
    "## 内容\n",
    "\n",
    "本课程分为若干个笔记本（章节）。\n",
    "\n",
    "* [00](00.ipynb) 这篇介绍和下面的附加信息，介绍了如何开始运行python的方法。\n",
    "* [01](01.ipynb) 基本数据类型和操作(数字、字符串) \n",
    "* [02](02.ipynb) 字符串操作 \n",
    "* [03](03.ipynb) 数据结构：列表和元组\n",
    "* [04](04.ipynb) 数据结构（续）：字典\n",
    "* [05](05.ipynb) 控制语句：if、for、while、try语句\n",
    "* [06](06.ipynb) 函数\n",
    "* [07](07.ipynb) 类和基本的面向对象程序设计\n",
    "* [08](08.ipynb) Scipy：数组（矩阵）和绘图库\n",
    "* [09](09.ipynb) 使用 mymip 库的混合整数线性编程.\n",
    "* [10](10.ipynb) python下的网络和图-一个非常简单的介绍。\n",
    "* [11](11.ipynb) 使用numba库进行快速数值计算。\n",
    "\n",
    "这是对Python的一个教程式的介绍。对于快速提醒/总结Python语法，下面的[快速参考卡](http://www.cs.put.poznan.pl/csobaniec/software/python/py-qrc.html)可能有用。更多、更详细的Python教程式的介绍可以从python网站上找到：https://docs.python.org/3/tutorial/"
   ]
  },
  {
   "cell_type": "markdown",
   "metadata": {},
   "source": [
    "## 安装\n",
    "\n",
    "\n",
    "Python可以在windows、linux、mac等环境下运行。有许多可用的python发行版。然而，在 Microsoft Windows 或 Linux 下安装 python 的推荐方法是使用 Anaconda 发行版 [https://www.anaconda.com/distribution/]。如果你从 elsewhwer 安装 python，请确保你至少得到 Python *3.6* 版本，而不是 2.7 版本。Anaconda 发行版附带了 [SciPy](https://www.scipy.org/)科学 python 工具集以及 iron python notebook。如果要开发没有笔记的Python代码，可以考虑使用[spyder](https://github.com/spyder-ide/spyder)(也包含在Anaconda中)或你最喜欢的windows、mac等操作系统下的IDE (例如[Visual Studio Code](https://code.visualstudio.com/docs/languages/python)，它可以处理普通的Python程序和笔记) \n",
    "\n",
    "要打开一个安装了Anaconda 的notebook，从终端上运行。\n",
    "\n",
    "    ipython notebook\n",
    "    \n",
    "如果安装了jupyter notebook，可以在终端上运行\n",
    "\n",
    "    jupyter notebook\n",
    "    \n",
    "**(jupyter notebook是ipython notebook的新项目版本，可以支持Python、R、Julia和Scala语言，ipython notebook仅支持Python语言。）**"
   ]
  },
  {
   "cell_type": "markdown",
   "metadata": {},
   "source": [
    "## 如何从这个资源中学习？\n",
    "\n",
    "从包含笔记的文件夹中启动ipython笔记本。打开它们中的每一个\n",
    "\n",
    "在每个Cell中输入上面的python代码，现在你可以理解每一个语句，并进行互动学习。\n",
    "\n",
    "\n",
    "## Notebooks的使用\n",
    "\n",
    "笔记本包含了文档和代码单元格的混合物。使用笔记本顶部的菜单或按钮来运行每个单元格。开始使用前注意：\n",
    "\n",
    "* 当创建新的笔记本时，请确保选择 Python3 内核 (服务器也允许你创建 Matlab、Julia 或 R 笔记本)，并使用 `File->Rename...` 菜单选项将笔记本_重命名为有意义的东西。\n",
    "* 文档是用markdown写的，这是一种纯文本的形式，带有一些基本的格式化选项(例如，使用`__text__`使文本加粗，或者使用`$latex$`使数学公式以latex格式包含数学公式)。更多信息请参见[Jupyter Markdown](https://jupyter-notebook.readthedocs.io/en/stable/examples/Notebook/Working%20With%20Markdown%20Cells.html)文档或查看上面菜单中的 _Help->Markdown_ 条目。\n",
    "* 代码单元格包含Python代码。你可以只执行一个单元格或整个notbook。<br> \n",
    "   **警告：** 可能会因为单元格的执行不按顺序执行而感到非常困惑。 如果你在增量编辑和执行单元格一段时间后得到了非常意外的结果，请尝试使用 \"Kernel -> Restart & Run All \"来重新启动python解释器并运行所有单元格。这将确保解释器按照正确的顺序运行你所看到的内容，而不是记住之前的尝试。\n",
    "* 你可以使用`+`按钮或`Insert`菜单来添加新的单元格。在阅读本教程的过程中，你可以尝试轻松地添加额外的单元格来。单元格只是你可以在笔记本中单独执行的最小的代码集合。\n",
    "* 当你完成后，使用 `File -> Close & Halt`菜单（或Jupyter文件浏览器的 `Running`选项卡中的`Shutdown` 按钮）来停止笔记本的运行。在默认情况下，即使在你注销并关闭网页浏览器时，笔记本也会继续运行。如果你想继续运行，这可能是很有用的，但偶尔你需要清理一下，关闭一些笔记本。  "
   ]
  },
  {
   "cell_type": "markdown",
   "metadata": {},
   "source": [
    "</i></font></small>\n",
    "## 许可证\n",
    "本作品获得了共享创意署名3.0非进口许可证的许可。要查看此许可的副本，请访问 http://creativecommons.org/licenses/by/3.0/。\n",
    "\n",
    "<small><font style=\"font-size:6pt\"><i>\n",
    "这篇《Python概论》可从https://gitlab.erc.monash.edu.au/andrease/Python4Maths.git。\n",
    "<br>。\n",
    "原始版本是由Rajath Kumar编写的，可在https://github.com/rajathkumarmp/Python-Lectures。\n",
    "该笔记已被[Andreas Ernst](https://research.monash.edu/en/persons/andreas-ernst)针对Python 3进行了大量的重写和更新，并对其进行了修改，以便在莫纳什大学数学课程中使用。\n",
    "</i></font></small>"
   ]
  },
  {
   "cell_type": "code",
   "execution_count": null,
   "metadata": {},
   "outputs": [],
   "source": []
  }
 ],
 "metadata": {
  "kernelspec": {
   "display_name": "Python 3",
   "language": "python",
   "name": "python3"
  },
  "language_info": {
   "codemirror_mode": {
    "name": "ipython",
    "version": 3
   },
   "file_extension": ".py",
   "mimetype": "text/x-python",
   "name": "python",
   "nbconvert_exporter": "python",
   "pygments_lexer": "ipython3",
   "version": "3.7.3"
  }
 },
 "nbformat": 4,
 "nbformat_minor": 2
}
