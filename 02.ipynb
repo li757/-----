{
 "cells": [
  {
   "cell_type": "markdown",
   "metadata": {},
   "source": [
    "<small><font style=\"font-size:6pt\"> <i>\n",
    "All of these python notebooks are available at https://gitlab.erc.monash.edu.au/andrease/Python4Maths.git </i>\n",
    "</font></small>"
   ]
  },
  {
   "cell_type": "markdown",
   "metadata": {},
   "source": [
    "# 字符串\n",
    "\n",
    "回顾一下上一节，字符串可以用单引号、双引号或三引号输入:\n",
    "\n",
    "```python\n",
    "  'All', \"of\", '''these''', \"\"\"are\n",
    "  valid strings\"\"\"\n",
    "```\n",
    "\n",
    "**Unicode:** Python 支持 unicode 字符串--但是在大多数情况下，这里将被忽略。如果你在一个支持 unicode 的编辑器中工作，你可以在字符串中使用非 ASCII 字符 (甚至用于变量名)。或者输入类似于 `\"\\u00B3\"`的字符串\"³\" （上标-3）。 \n",
    "\n",
    "## 打印语句"
   ]
  },
  {
   "cell_type": "markdown",
   "metadata": {},
   "source": [
    "如前所述，`print()`函数将所有的参数都打印成字符串，以空格分隔并可以跟随换行符:\n",
    "\n",
    "    - print(\"Hello World\")\n",
    "    - print(\"Hello\",'World')\n",
    "    - print(\"Hello\", <Variable>)\n",
    "\n",
    "注意，在旧版本Python (2.7)中，`print`是不同的，print语句不需要在参数加上括号。"
   ]
  },
  {
   "cell_type": "markdown",
   "metadata": {},
   "source": [
    "```python\n",
    "print(\"Hello\",\"World\")\n",
    "```"
   ]
  },
  {
   "cell_type": "code",
   "execution_count": null,
   "metadata": {},
   "outputs": [],
   "source": []
  },
  {
   "cell_type": "markdown",
   "metadata": {},
   "source": [
    "print有一些可选的参数来控制打印的位置和方式。这包括`sep`分隔符(默认空格)和`end`(结束符)以及`file`写到文件中。当写到文件时，设置参数 `flush=True`可能有用，可以强制函数立即写输出。如果不设置这个参数，Python 可能会缓冲输出，这有助于提高重复调用 print() 的速度，但如果你想在调试过程中立即看到输出，比如说，如果你想在调试过程中立即看到输出，那就没有用了。"
   ]
  },
  {
   "cell_type": "markdown",
   "metadata": {},
   "source": [
    "```python\n",
    "print(\"Hello\",\"World\",sep='...',end='!!',flush=True)\n",
    "```"
   ]
  },
  {
   "cell_type": "code",
   "execution_count": null,
   "metadata": {},
   "outputs": [],
   "source": []
  },
  {
   "cell_type": "markdown",
   "metadata": {},
   "source": [
    "## 字符串格式化\n",
    "\n",
    "在python中内置了大量的方法格式化和处理字符串。其中的一些方法在此说明。\n",
    "\n",
    "字符串联接是两个字符串的 \"加法\"。请注意，在字符串之间没有空格。"
   ]
  },
  {
   "cell_type": "markdown",
   "metadata": {},
   "source": [
    "```python\n",
    "string1='World'\n",
    "string2='!'\n",
    "print('Hello' + \" \" + string1 + string2)\n",
    "```"
   ]
  },
  {
   "cell_type": "code",
   "execution_count": null,
   "metadata": {},
   "outputs": [],
   "source": []
  },
  {
   "cell_type": "markdown",
   "metadata": {},
   "source": [
    "`%`操作符用于格式化一个字符串，插入后面的值。它依赖于字符串中包含了一个格式指定符，用于确定插入值的位置。最常见的格式指定符类型有:\n",
    "\n",
    "    - %s -> 字符串\n",
    "    - %d -> 整数\n",
    "    - %f -> 浮点数\n",
    "    - %o -> 八进制\n",
    "    - %x -> 十六进制\n",
    "    - %e -> 指数\n",
    "    \n",
    "这些对于写过C语言或Java程序的人来说，都会非常熟悉，并且与[`printf()`](https://en.wikipedia.org/wiki/Printf_format_string)函数的规则几乎完全相同。"
   ]
  },
  {
   "cell_type": "markdown",
   "metadata": {},
   "source": [
    "```python\n",
    "print(\"Hello %s\" % string1)\n",
    "print(\"Actual Number = %d\" %18)\n",
    "print(\"Float of the number = %f\" %18)\n",
    "print(\"Octal equivalent of the number = %o\" %18)\n",
    "print(\"Hexadecimal equivalent of the number = %x\" %18)\n",
    "print(\"Exponential equivalent of the number = %e\" %18)\n",
    "```"
   ]
  },
  {
   "cell_type": "code",
   "execution_count": null,
   "metadata": {},
   "outputs": [],
   "source": []
  },
  {
   "cell_type": "markdown",
   "metadata": {},
   "source": [
    "当引用多个变量时使用括号。值按其出现在范式中的顺序插入(下一节中会有更多关于元组的内容)"
   ]
  },
  {
   "cell_type": "markdown",
   "metadata": {},
   "source": [
    "```python\n",
    "print(\"Hello %s %s. This meaning of life is %d\" %(string1,string2,42))\n",
    "```"
   ]
  },
  {
   "cell_type": "code",
   "execution_count": null,
   "metadata": {},
   "outputs": [],
   "source": []
  },
  {
   "cell_type": "markdown",
   "metadata": {},
   "source": [
    "我们还可以指定字段的宽度和小数点的位数。比如说:"
   ]
  },
  {
   "cell_type": "markdown",
   "metadata": {},
   "source": [
    "```python\n",
    "print('Print width 10: |%10s|'%'x')\n",
    "print('Print width 10: |%-10s|'%'x') # 左对齐\n",
    "print(\"The number pi = %.2f to 2 decimal places\"%3.1415)\n",
    "print(\"More space pi = %10.2f\"%3.1415)\n",
    "print(\"Pad pi with 0 = %010.2f\"%3.1415) # 补零\n",
    "```"
   ]
  },
  {
   "cell_type": "code",
   "execution_count": null,
   "metadata": {},
   "outputs": [],
   "source": []
  },
  {
   "cell_type": "markdown",
   "metadata": {},
   "source": [
    "## 其他字符串方法"
   ]
  },
  {
   "cell_type": "markdown",
   "metadata": {},
   "source": [
    "简单地重复一个字符串，可以将字符串乘以重复的次数"
   ]
  },
  {
   "cell_type": "markdown",
   "metadata": {},
   "source": [
    "```python\n",
    "print(\"Hello World! \"*5)\n",
    "```"
   ]
  },
  {
   "cell_type": "code",
   "execution_count": null,
   "metadata": {},
   "outputs": [],
   "source": []
  },
  {
   "cell_type": "markdown",
   "metadata": {},
   "source": [
    "#### 格式化\n",
    "字符串可以被各种函数转换，这些函数都是字符串方法。也就是在字符串后面加上一个`.`的函数名来调用它们。这些函数包括:\n",
    "\n",
    "* 大写和小写：`upper()`，`lower()`，`captialize()`，`title()`和`swapcase()`，大部分的意思都很明显。注意，`capitalize`只把字符串的第一个字母变成大写，而`title`为每个单词的第一个字母变成大写。\n",
    "* 填充字符串：`center(n)`, `ljust(n)`和`rjust(n)`分别将字符串放入一个长度为n的长字符串中，并以空格填充(分别为居中、左对齐或右对齐)。`zfill(n)`工作原理类似，但是用前导零填充。\n",
    "* 删除字符串：通常我们想要删除空格，这可以通过函数`strip()`, `lstrip()`, 和`rstrip()`来实现，分别从两端的空格中删除，只删除左边或右边的空格。一个可选的参数可以用来列出一组其他要删除的字符。\n",
    "\n"
   ]
  },
  {
   "cell_type": "markdown",
   "metadata": {},
   "source": [
    "```python\n",
    "s=\"heLLo wORLd!\"\n",
    "print(s.capitalize(),\"vs\",s.title())\n",
    "print(\"upper: '%s'\"%s.upper(),\"lower: '%s'\"%s.lower(),\"and swapped: '%s'\"%s.swapcase())\n",
    "print('|%s|' % \"Hello World\".center(30)) # 居中30个字符\n",
    "print('|%s|'% \"     lots of space             \".strip()) # 删除前后空\n",
    "print('%s without leading/trailing d,h,L or ! = |%s|',s.strip(\"dhL!\"))\n",
    "print(\"Hello World\".replace(\"World\",\"Class\"))\n",
    "```"
   ]
  },
  {
   "cell_type": "code",
   "execution_count": null,
   "metadata": {},
   "outputs": [],
   "source": []
  },
  {
   "cell_type": "markdown",
   "metadata": {},
   "source": [
    "#### 字符串检查\n",
    "还有很多方法可以检查或检测字符串。这里给出了其中的一些例子。\n",
    "\n",
    "* 检查字符串的开始或结束：`startswith(\"string\")`和`endswith(\"string\")`检查它是否以给定的字符串作为参数开始/结束。\n",
    "* 大写：大所有形式的大写都有对应的布尔值，如`isupper()`、`islower()`和`istitle()`。\n",
    "* 字符类型：字符串是否只包含字符类型\n",
    "  * 0-9：`isdecimal()`。注意，还有`isnumeric()`和`isdigit()`，除了某些unicode字符外，它们实际上是相同的函数。\n",
    "  * a-zA-Z：`isalpha()`或与数字相结合：`isalnum()`。\n",
    "  * 非控制代码：`isprintable()`接受除'\\n'以外的其他ASCII控制代码。\n",
    "  * \\t\\n\\r (空格符):`isspace()`。\n",
    "  * 适合作为变量名称：`isidentifier()`。\n",
    "* 查找字符串中的元素。`s.count(w)`查找s中出现w的次数，而`s.find(w)`和`s.rfind(w)`查找字符串w在s中的第一个和最后一个位置。"
   ]
  },
  {
   "cell_type": "markdown",
   "metadata": {},
   "source": [
    "```python\n",
    "s=\"Hello World\"\n",
    "print(\"The length of '%s' is\"%s,len(s),\"characters\") # len()给出长度\n",
    "s.startswith(\"Hello\") and s.endswith(\"World\") # 检查起始\n",
    "# 字符串计数\n",
    "print(\"There are %d 'l's but only %d World in %s\" % (s.count('l'),s.count('World'),s))\n",
    "print('\"el\" is at index',s.find('el'),\"in\",s) #索引开始于 0 或 -1\n",
    "```"
   ]
  },
  {
   "cell_type": "code",
   "execution_count": null,
   "metadata": {},
   "outputs": [],
   "source": []
  },
  {
   "cell_type": "markdown",
   "metadata": {},
   "source": [
    "## 字符串比较操作\n",
    "可以用通常的比较法按词法顺序对字符串进行比较。此外，`in` 运算符还可以检查子字符串:"
   ]
  },
  {
   "cell_type": "markdown",
   "metadata": {},
   "source": [
    "```python\n",
    "'abc' < 'bbc' <= 'bbc'\n",
    "```"
   ]
  },
  {
   "cell_type": "code",
   "execution_count": null,
   "metadata": {},
   "outputs": [],
   "source": []
  },
  {
   "cell_type": "markdown",
   "metadata": {},
   "source": [
    "```python\n",
    "\"ABC\" in \"This is the ABC of Python\"\n",
    "```"
   ]
  },
  {
   "cell_type": "code",
   "execution_count": null,
   "metadata": {},
   "outputs": [],
   "source": []
  },
  {
   "cell_type": "markdown",
   "metadata": {},
   "source": [
    "## 访问字符串的一部分"
   ]
  },
  {
   "cell_type": "markdown",
   "metadata": {},
   "source": [
    "可以用方括号对字符串进行索引。在Python中，索引从0开始。而`len()`函数提供了获取一个字符串的长度。"
   ]
  },
  {
   "cell_type": "markdown",
   "metadata": {},
   "source": [
    "```python\n",
    "s = '123456789'\n",
    "print(\"The string '%s' string is %d characters long\" % (s, len(s)) )\n",
    "print('First character of',s,'is',s[0])\n",
    "print('Last character of',s,'is',s[len(s)-1])\n",
    "```"
   ]
  },
  {
   "cell_type": "code",
   "execution_count": null,
   "metadata": {},
   "outputs": [],
   "source": []
  },
  {
   "cell_type": "markdown",
   "metadata": {},
   "source": [
    "负数可以用来从后面开始计数。"
   ]
  },
  {
   "cell_type": "markdown",
   "metadata": {},
   "source": [
    "```python\n",
    "print('First character of',s,'is',s[-len(s)])\n",
    "print('Last character of',s,'is',s[-1])\n",
    "```"
   ]
  },
  {
   "cell_type": "code",
   "execution_count": null,
   "metadata": {},
   "outputs": [],
   "source": []
  },
  {
   "cell_type": "markdown",
   "metadata": {},
   "source": [
    "最后一个子串（字符范围）可以用$a:b$来指定索引$a,a+1,\\ldots,b-1$的字符。注意，最后一个字符是*不包括在内的*。"
   ]
  },
  {
   "cell_type": "markdown",
   "metadata": {},
   "source": [
    "```python\n",
    "print(\"First three characters\",s[0:3])\n",
    "print(\"Next three characters\",s[3:6])\n",
    "```"
   ]
  },
  {
   "cell_type": "code",
   "execution_count": null,
   "metadata": {},
   "outputs": [],
   "source": []
  },
  {
   "cell_type": "markdown",
   "metadata": {},
   "source": [
    "一个空的开头和结尾表示字符串的开头/结尾:"
   ]
  },
  {
   "cell_type": "markdown",
   "metadata": {},
   "source": [
    "```python\n",
    "print(\"First three characters\", s[:3])\n",
    "print(\"Last three characters\", s[-3:])\n",
    "```"
   ]
  },
  {
   "cell_type": "code",
   "execution_count": null,
   "metadata": {},
   "outputs": [],
   "source": []
  },
  {
   "cell_type": "markdown",
   "metadata": {},
   "source": [
    "#### 分割字符串\n",
    "在处理文本时，分割字符串的功能特别有用。\n",
    "\n",
    "* `partition(分隔符)`：根据分隔符将字符串分成三个部分。\n",
    "* `split()`：将字符串分成以空格分隔的单词（可选取分隔符作为参数）。\n",
    "* `join()`：用字符串作为分隔符，将拆分的结果连接起来。"
   ]
  },
  {
   "cell_type": "markdown",
   "metadata": {},
   "source": [
    "```python\n",
    "s = \"one -> two  ->  three\"\n",
    "print( s.partition(\"->\") )\n",
    "print( s.split() )\n",
    "print( s.split(\" -> \") )\n",
    "print( \";\".join( s.split(\" -> \") ) )\n",
    "```"
   ]
  },
  {
   "cell_type": "code",
   "execution_count": null,
   "metadata": {},
   "outputs": [],
   "source": []
  },
  {
   "cell_type": "markdown",
   "metadata": {},
   "source": [
    "## 字符串的不可变\n",
    "\n",
    "重要的是，在Python中，字符串是常量的、不可更改的值。虽然可以很容易地创建新的字符串，但不能修改一个字符串。"
   ]
  },
  {
   "cell_type": "markdown",
   "metadata": {},
   "source": [
    "```python\n",
    "s='012345'\n",
    "sX=s[:2]+'X'+s[3:] # 用X替换2创建新的字符串\n",
    "print(\"creating new string\",sX,\"OK\")\n",
    "sX=s.replace('2','X') # 同样的情况\n",
    "print(sX,\"still OK\")\n",
    "s[2] = 'X' # 错误!!!\n",
    "```"
   ]
  },
  {
   "cell_type": "code",
   "execution_count": null,
   "metadata": {},
   "outputs": [],
   "source": []
  },
  {
   "cell_type": "markdown",
   "metadata": {
    "collapsed": true
   },
   "source": [
    "## 高级字符串处理\n",
    "对于更高级的字符串处理，Python中有许多可用的库，例如：\n",
    "* **re**用于基于正则表达式的搜索和分割字符串\n",
    "* **html**用于操作HTML格式的文本\n",
    "* **textwrap**用于ASCII文本的重新格式化\n",
    "* .....还有更多"
   ]
  }
 ],
 "metadata": {
  "kernelspec": {
   "display_name": "Python 3",
   "language": "python",
   "name": "python3"
  },
  "language_info": {
   "codemirror_mode": {
    "name": "ipython",
    "version": 3
   },
   "file_extension": ".py",
   "mimetype": "text/x-python",
   "name": "python",
   "nbconvert_exporter": "python",
   "pygments_lexer": "ipython3",
   "version": "3.7.3"
  }
 },
 "nbformat": 4,
 "nbformat_minor": 1
}
