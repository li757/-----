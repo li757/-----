{
 "cells": [
  {
   "cell_type": "markdown",
   "metadata": {},
   "source": [
    "<small><font style=\"font-size:6pt\"> <i>\n",
    "All of these python notebooks are available at https://gitlab.erc.monash.edu.au/andrease/Python4Maths.git </i>\n",
    "</font></small>"
   ]
  },
  {
   "cell_type": "markdown",
   "metadata": {},
   "source": [
    "## Strings"
   ]
  },
  {
   "cell_type": "markdown",
   "metadata": {},
   "source": [
    "字符串在第02章已经讨论过了，但也可以被视为类似于列表和元组。例如："
   ]
  },
  {
   "cell_type": "markdown",
   "metadata": {},
   "source": [
    "```python\n",
    "S = 'The Taj Mahal is beautiful'\n",
    "print([x for x in S if x.islower()]) # 小写字母表单词列表\n",
    "words=S.split() # 单词列表\n",
    "print(\"Words are:\",words)\n",
    "print(\"--\".join(words)) # 连字符 \n",
    "\" \".join(w.capitalize() for w in words) # 大写字母\n",
    "```"
   ]
  },
  {
   "cell_type": "code",
   "execution_count": null,
   "metadata": {},
   "outputs": [],
   "source": []
  },
  {
   "cell_type": "markdown",
   "metadata": {},
   "source": [
    "字符串索引和切片类似于列表，前面已经详细介绍过了。"
   ]
  },
  {
   "cell_type": "markdown",
   "metadata": {},
   "source": [
    "```python\n",
    "print(S[4])\n",
    "print(S[4:])\n",
    "```"
   ]
  },
  {
   "cell_type": "code",
   "execution_count": null,
   "metadata": {},
   "outputs": [],
   "source": []
  },
  {
   "cell_type": "markdown",
   "metadata": {},
   "source": [
    "## 字典"
   ]
  },
  {
   "cell_type": "markdown",
   "metadata": {},
   "source": [
    "字典是键和存储在字典中的项目之间的映射。另外，我们也可以把字典看成是集合，其中存储的东西与集合中的每个元素相对应。它们可以被定义为如下："
   ]
  },
  {
   "cell_type": "markdown",
   "metadata": {},
   "source": [
    "要定义一个字典，把{ }或dict()赋值给一个变量"
   ]
  },
  {
   "cell_type": "markdown",
   "metadata": {},
   "source": [
    "```python\n",
    "d = dict() # 相当于d={}\n",
    "print(type(d))\n",
    "d['abc'] = 3\n",
    "d[4] = \"A string\"\n",
    "print(d)\n",
    "```"
   ]
  },
  {
   "cell_type": "code",
   "execution_count": null,
   "metadata": {},
   "outputs": [],
   "source": []
  },
  {
   "cell_type": "markdown",
   "metadata": {},
   "source": [
    "从上面的输出中可以猜到。字典可以通过使用`{ key : value }`语法来定义。下面的字典有三个元素。"
   ]
  },
  {
   "cell_type": "markdown",
   "metadata": {},
   "source": [
    "```python\n",
    "d = { 1: 'One', 2 : 'Two', 100 : 'Hundred'}\n",
    "len(d)\n",
    "```"
   ]
  },
  {
   "cell_type": "code",
   "execution_count": null,
   "metadata": {},
   "outputs": [],
   "source": []
  },
  {
   "cell_type": "markdown",
   "metadata": {},
   "source": [
    "现在，你可以通过设置为1的索引值访问'One'"
   ]
  },
  {
   "cell_type": "markdown",
   "metadata": {},
   "source": [
    "```python\n",
    "print(d[1])\n",
    "```"
   ]
  },
  {
   "cell_type": "code",
   "execution_count": null,
   "metadata": {},
   "outputs": [],
   "source": []
  },
  {
   "cell_type": "markdown",
   "metadata": {},
   "source": [
    "有许多其他的方法来指定一个字典，包括作为一个`(key,value) `元组的列表。  \n",
    "为了说明这一点，我们将从两个列表开始，使用**zip()** 函数从它们中组成一个元组。  \n",
    "两个相关的列表可以合并成一个字典。"
   ]
  },
  {
   "cell_type": "markdown",
   "metadata": {},
   "source": [
    "```python\n",
    "names = ['One', 'Two', 'Three', 'Four', 'Five']\n",
    "numbers = [1, 2, 3, 4, 5]\n",
    "[ (name,number) for name,number in zip(names,numbers)] # 创建 (name,number) 对\n",
    "```"
   ]
  },
  {
   "cell_type": "code",
   "execution_count": null,
   "metadata": {},
   "outputs": [],
   "source": []
  },
  {
   "cell_type": "markdown",
   "metadata": {},
   "source": [
    "现在,我们可以创建一个字典，将name映射到number，如下所示。"
   ]
  },
  {
   "cell_type": "markdown",
   "metadata": {},
   "source": [
    "```python\n",
    "a1 = dict((name,number) for name,number in zip(names,numbers))\n",
    "print(a1)\n",
    "```"
   ]
  },
  {
   "cell_type": "code",
   "execution_count": null,
   "metadata": {},
   "outputs": [],
   "source": []
  },
  {
   "cell_type": "markdown",
   "metadata": {},
   "source": [
    "注意，这个字典的排序不是基于元素添加的顺序，而是基于它自己的排序（基于哈希索引排序）。在遍历一个字典的元素时，最好不要假设一个顺序。\n",
    "\n",
    "**注意:** 任何作为键的值必须是_immutable_。这意味着_tuples_可以用作键(因为它们不能被改变)，但不允许使用列表。对于更高级的读者来说，可以把任意对象作为键使用，但在这种情况下，对象的引用(地址)被用作键，而不是对象的 \"值\"。\n",
    "\n",
    "使用元组作为键是非常常见的，并且允许使用（稀疏）矩阵类型的数据结构。"
   ]
  },
  {
   "cell_type": "markdown",
   "metadata": {},
   "source": [
    "```python\n",
    "matrix={ (0,1): 3.5, (2,17): 0.1}\n",
    "matrix[2,2] = matrix[0,1] + matrix[2,17]\n",
    "# matrix[2,2] 等价于matrix[ (2,2) ]\n",
    "print(matrix)\n",
    "```"
   ]
  },
  {
   "cell_type": "code",
   "execution_count": null,
   "metadata": {},
   "outputs": [],
   "source": []
  },
  {
   "cell_type": "markdown",
   "metadata": {},
   "source": [
    "词典也可以使用循环样式定义来构建。"
   ]
  },
  {
   "cell_type": "markdown",
   "metadata": {},
   "source": [
    "```python\n",
    "a2 = { name : len(name) for name in names}\n",
    "print(a2)\n",
    "```"
   ]
  },
  {
   "cell_type": "code",
   "execution_count": null,
   "metadata": {},
   "outputs": [],
   "source": []
  },
  {
   "cell_type": "markdown",
   "metadata": {},
   "source": [
    "### 内置函数"
   ]
  },
  {
   "cell_type": "markdown",
   "metadata": {},
   "source": [
    "\"len() \"函数和 \"in \"运算符具有明显的含义："
   ]
  },
  {
   "cell_type": "markdown",
   "metadata": {},
   "source": [
    "```python\n",
    "print(\"a1 has\",len(a1),\"elements\")\n",
    "print(\"One is in a1\",'One' in a1,\"but not 2:\", 2 in a1) # 'in' 只检测 keys\n",
    "```"
   ]
  },
  {
   "cell_type": "code",
   "execution_count": null,
   "metadata": {},
   "outputs": [],
   "source": []
  },
  {
   "cell_type": "markdown",
   "metadata": {},
   "source": [
    "`clear()`函数用于删除所有元素。"
   ]
  },
  {
   "cell_type": "markdown",
   "metadata": {},
   "source": [
    "```python\n",
    "a2.clear()\n",
    "print(a2)\n",
    "```"
   ]
  },
  {
   "cell_type": "code",
   "execution_count": null,
   "metadata": {},
   "outputs": [],
   "source": []
  },
  {
   "cell_type": "markdown",
   "metadata": {},
   "source": [
    "`values()`函数返回一个包含字典中所有赋值的列表。(通常不是退出一个列表，而是我们可以像构造一个列表、元组或其他集合一样嵌套的东西):"
   ]
  },
  {
   "cell_type": "markdown",
   "metadata": {},
   "source": [
    "```python\n",
    "[ v for v in a1.values() ]\n",
    "```"
   ]
  },
  {
   "cell_type": "code",
   "execution_count": null,
   "metadata": {},
   "outputs": [],
   "source": []
  },
  {
   "cell_type": "markdown",
   "metadata": {},
   "source": [
    "`keys()`函数返回所有的索引或包含被分配给它的值的键。"
   ]
  },
  {
   "cell_type": "markdown",
   "metadata": {},
   "source": [
    "```python\n",
    "{ k for k in a1.keys() }\n",
    "```"
   ]
  },
  {
   "cell_type": "code",
   "execution_count": null,
   "metadata": {},
   "outputs": [],
   "source": []
  },
  {
   "cell_type": "markdown",
   "metadata": {},
   "source": [
    "`items()`返回的是一个包含列表，但是字典中的每个元素都在一个元组中。这和使用zip函数时得到的结果是一样的--除了排序可能会被字典 \"洗牌\"。"
   ]
  },
  {
   "cell_type": "markdown",
   "metadata": {},
   "source": [
    "```python\n",
    "\",  \".join( \"%s = %d\" % (name,val) for name,val in a1.items())\n",
    "```"
   ]
  },
  {
   "cell_type": "code",
   "execution_count": null,
   "metadata": {},
   "outputs": [],
   "source": []
  },
  {
   "cell_type": "markdown",
   "metadata": {},
   "source": [
    "`pop()`函数是用来获取删除那个特定的元素，这个被删除的元素可以被分配到一个新的变量中。但是要记住，只存储值而不是键。因为它只是一个索引值。"
   ]
  },
  {
   "cell_type": "markdown",
   "metadata": {},
   "source": [
    "```python\n",
    "val = a1.pop('Four')\n",
    "print(a1)\n",
    "print(\"Removed\",val)\n",
    "```"
   ]
  },
  {
   "cell_type": "code",
   "execution_count": null,
   "metadata": {},
   "outputs": [],
   "source": []
  },
  {
   "cell_type": "markdown",
   "metadata": {
    "collapsed": true
   },
   "source": [
    "# 何时使用字典与列表\n",
    "\n",
    "选择是否将数据存储在列表或字典（或集合）中有时似乎有点武断。以下是对这些优点和缺点的简要总结：\n",
    "\n",
    "* 在集合中查找元素与在列表中查找元素：无论集合`C`是列表、集合还是字典, `x in C` 都有效。然而，对于大型集合，使用列表的计算速度要比集合或字典慢得多。另一方面，如果所有项的索引都是一个整数，如果查询列表`x[45672]`，则查找比查找字典快得多。  \n",
    "* 如果你的所有项目都是以整数为索引，但有些索引没有被使用，你可以使用列表，并在没有相应的项目时分配一些虚值（例如\"\"）。对于非常稀少的集合来说，与字典相比，这可能会消耗大量的额外内存。另一方面，如果大多数值都存在，那么显式存储索引(就像在字典中那样)，与列表表示相比，可能会消耗大量的额外内存。\n"
   ]
  },
  {
   "cell_type": "markdown",
   "metadata": {},
   "source": [
    "```python\n",
    "import time\n",
    "bigList = [i for i in range(0,100000)]\n",
    "bigSet = set(bigList)\n",
    "start = time.clock()  # 多久才能在一万个项目中找到最后一个数字？\n",
    "99999 in bigList\n",
    "print(\"List lookup time: %.6f ms\" % (1000*(time.clock()-start)))\n",
    "start = time.clock()\n",
    "99999 in bigSet\n",
    "print(\"Set lookup time:  %.6f ms\" % (1000*(time.clock()-start)))\n",
    "```"
   ]
  },
  {
   "cell_type": "code",
   "execution_count": null,
   "metadata": {},
   "outputs": [],
   "source": []
  }
 ],
 "metadata": {
  "celltoolbar": "Raw Cell Format",
  "kernelspec": {
   "display_name": "Python 3",
   "language": "python",
   "name": "python3"
  },
  "language_info": {
   "codemirror_mode": {
    "name": "ipython",
    "version": 3
   },
   "file_extension": ".py",
   "mimetype": "text/x-python",
   "name": "python",
   "nbconvert_exporter": "python",
   "pygments_lexer": "ipython3",
   "version": "3.7.3"
  }
 },
 "nbformat": 4,
 "nbformat_minor": 1
}
