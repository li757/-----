{
 "cells": [
  {
   "cell_type": "markdown",
   "metadata": {},
   "source": [
    "<small><font style=\"font-size:6pt\"> <i>\n",
    "All of these python notebooks are available at https://gitlab.erc.monash.edu.au/andrease/Python4Maths.git </i>\n",
    "</font></small>"
   ]
  },
  {
   "cell_type": "markdown",
   "metadata": {},
   "source": [
    "# 类"
   ]
  },
  {
   "cell_type": "markdown",
   "metadata": {},
   "source": [
    "python中的变量、列表、字典等都是对象。在此教程中，我们没有深入到面向对象程序设计的理论部分，我们将沿着本教程对概念进行解释。"
   ]
  },
  {
   "cell_type": "markdown",
   "metadata": {},
   "source": [
    "类声明如下"
   ]
  },
  {
   "cell_type": "markdown",
   "metadata": {},
   "source": [
    "```python\n",
    "class 类名:\n",
    "    方法 (函数)```\n"
   ]
  },
  {
   "cell_type": "markdown",
   "metadata": {
    "collapsed": true
   },
   "source": [
    "```python\n",
    "class FirstClass:\n",
    "    \"This is an empty class\"\n",
    "    pass\n",
    "```"
   ]
  },
  {
   "cell_type": "code",
   "execution_count": null,
   "metadata": {},
   "outputs": [],
   "source": []
  },
  {
   "cell_type": "markdown",
   "metadata": {},
   "source": [
    "**pass** 在python中表示什么也不做。这个字符串定义了类的文档，可以通过`help(FirstClass)`访问。"
   ]
  },
  {
   "cell_type": "markdown",
   "metadata": {},
   "source": [
    "上面，一个名为 \"FirstClass \"的类对象被声明为 \"FirstClass\"，现在考虑一个 \"egclass\"，它具有 \"FirstClass \"的所有特征。所以你要做的就是，把 \"egclass \"等同于 \"FirstClass\"。用python的行话来说，这就是创建一个实例。\"egclass \"就是 \"FirstClass \"的实例。"
   ]
  },
  {
   "cell_type": "markdown",
   "metadata": {},
   "source": [
    "```python\n",
    "egclass = FirstClass()```"
   ]
  },
  {
   "cell_type": "code",
   "execution_count": null,
   "metadata": {},
   "outputs": [],
   "source": []
  },
  {
   "cell_type": "markdown",
   "metadata": {},
   "source": [
    "```python\n",
    "type(egclass)```"
   ]
  },
  {
   "cell_type": "code",
   "execution_count": null,
   "metadata": {},
   "outputs": [],
   "source": []
  },
  {
   "cell_type": "markdown",
   "metadata": {},
   "source": [
    "```python\n",
    "type(FirstClass)```"
   ]
  },
  {
   "cell_type": "code",
   "execution_count": null,
   "metadata": {},
   "outputs": [],
   "source": []
  },
  {
   "cell_type": "markdown",
   "metadata": {},
   "source": [
    "对象（类的实例）可以保存数据。对象中的变量也被称为字段或属性。要访问一个字段，请使用符号`object.field`。例如：x"
   ]
  },
  {
   "cell_type": "markdown",
   "metadata": {},
   "source": [
    "```python\n",
    "obj1 = FirstClass()\n",
    "obj2 = FirstClass()\n",
    "obj1.x = 5\n",
    "obj2.x = 6\n",
    "x = 7\n",
    "print(\"x in object 1 =\",obj1.x,\"x in object 2=\",obj2.x,\"global x =\",x)\n",
    "```"
   ]
  },
  {
   "cell_type": "code",
   "execution_count": null,
   "metadata": {},
   "outputs": [],
   "source": []
  },
  {
   "cell_type": "markdown",
   "metadata": {},
   "source": [
    "现在让我们给类添加一些 \"功能\"。 类内部的函数作为该类的 \"方法\"被调用。"
   ]
  },
  {
   "cell_type": "markdown",
   "metadata": {},
   "source": [
    "```python\n",
    "class Counter:\n",
    "    def reset(self,init=0):\n",
    "        self.count = init\n",
    "    def getCount(self):\n",
    "        self.count += 1\n",
    "        return self.count\n",
    "counter = Counter()\n",
    "counter.reset(0)\n",
    "print(\"one =\",counter.getCount(),\"two =\",counter.getCount(),\"three =\",counter.getCount())\n",
    "```"
   ]
  },
  {
   "cell_type": "code",
   "execution_count": null,
   "metadata": {},
   "outputs": [],
   "source": []
  },
  {
   "cell_type": "markdown",
   "metadata": {},
   "source": [
    "请注意，`reset()`和函数以及`getCount()`方法是用比它们声明的参数少一个参数来调用的。`self`参数被Python设置为调用对象。这里`counter.reset(0)`相当于`Counter.reset(counter,0)`。\n",
    "使用 **self** 作为方法的第一个参数的名称只是一个常见的惯例。Python 允许使用任何名称。\n",
    "\n",
    "注意，在这里，如果我们可以立即用默认值`count`初始化Count对象，而不是调用`reset()`会更好。在 Python 中声明了一个构造函数方法，其特殊名称为 `__init__`。"
   ]
  },
  {
   "cell_type": "markdown",
   "metadata": {
    "collapsed": true
   },
   "source": [
    "```python\n",
    "class FirstClass:\n",
    "    def __init__(self,name,symbol):\n",
    "        self.name = name\n",
    "        self.symbol = symbol\n",
    "        ```"
   ]
  },
  {
   "cell_type": "code",
   "execution_count": null,
   "metadata": {},
   "outputs": [],
   "source": []
  },
  {
   "cell_type": "markdown",
   "metadata": {},
   "source": [
    "现在，我们已经定义了一个函数，并添加了 \\_\\_init\\_\\_ 方法。我们可以创建一个FirstClass的实例，它现在接受两个参数。"
   ]
  },
  {
   "cell_type": "markdown",
   "metadata": {
    "collapsed": true
   },
   "source": [
    "```python\n",
    "eg1 = FirstClass('one',1)\n",
    "eg2 = FirstClass('two',2)\n",
    "```"
   ]
  },
  {
   "cell_type": "code",
   "execution_count": null,
   "metadata": {},
   "outputs": [],
   "source": []
  },
  {
   "cell_type": "markdown",
   "metadata": {},
   "source": [
    "```python\n",
    "print(eg1.name, eg1.symbol)\n",
    "print(eg2.name, eg2.symbol)\n",
    "```"
   ]
  },
  {
   "cell_type": "code",
   "execution_count": null,
   "metadata": {},
   "outputs": [],
   "source": []
  },
  {
   "cell_type": "markdown",
   "metadata": {},
   "source": [
    "**dir()** 函数在查看类包含哪些内容以及它所提供的所有方法时非常方便。"
   ]
  },
  {
   "cell_type": "markdown",
   "metadata": {},
   "source": [
    "```python\n",
    "print(\"Contents of Counter class:\",dir(Counter) )\n",
    "print(\"Contents of counter object:\", dir(counter))\n",
    "```"
   ]
  },
  {
   "cell_type": "code",
   "execution_count": null,
   "metadata": {},
   "outputs": [],
   "source": []
  },
  {
   "cell_type": "markdown",
   "metadata": {},
   "source": [
    "一个实例的**dir()** 也显示了它的定义属性，所以对象有额外的'count'属性。注意，Python 为像比较这样的操作定义了几个默认的方法 (`__le__`是$\\le$操作符)。这些和其他特殊的方法可以被定义为类，以实现该类的对象应该如何进行比较、添加、乘法或类似的特定含义。"
   ]
  },
  {
   "cell_type": "markdown",
   "metadata": {},
   "source": [
    "FirstClass函数修改一点"
   ]
  },
  {
   "cell_type": "markdown",
   "metadata": {
    "collapsed": true
   },
   "source": [
    "就像我们前面看到的全局变量和局部变量一样，即使是类也有自己的变量类型。\n",
    "\n",
    "**类属性（Class Attribute）**：定义在方法之外的属性，适用于所有的实例。\n",
    "\n",
    "**实例属性（Instance Attribute）**：定义在方法内部的属性，只适用于该方法，并且对每个实例都是唯一的。"
   ]
  },
  {
   "cell_type": "markdown",
   "metadata": {},
   "source": [
    "```python\n",
    "class FirstClass:\n",
    "    test = 'test'\n",
    "    def __init__(self,n,s):\n",
    "        self.name = n\n",
    "        self.symbol = s\n",
    "        ```"
   ]
  },
  {
   "cell_type": "code",
   "execution_count": null,
   "metadata": {},
   "outputs": [],
   "source": []
  },
  {
   "cell_type": "markdown",
   "metadata": {},
   "source": [
    "这里test是一个类属性，name是一个实例属性。"
   ]
  },
  {
   "cell_type": "markdown",
   "metadata": {
    "collapsed": true
   },
   "source": [
    "```python\n",
    "eg3 = FirstClass('Three',3)\n",
    "```"
   ]
  },
  {
   "cell_type": "code",
   "execution_count": null,
   "metadata": {},
   "outputs": [],
   "source": []
  },
  {
   "cell_type": "markdown",
   "metadata": {},
   "source": [
    "```python\n",
    "print(eg3.test,eg3.name,eg3.symbol)```"
   ]
  },
  {
   "cell_type": "code",
   "execution_count": null,
   "metadata": {},
   "outputs": [],
   "source": []
  },
  {
   "cell_type": "markdown",
   "metadata": {},
   "source": [
    "## 继承"
   ]
  },
  {
   "cell_type": "markdown",
   "metadata": {},
   "source": [
    "可能会有这样的情况，一个新的类会拥有之前已经定义的类的所有特性。所以新的类可以 \"继承 \"以前的类，并在其中添加自己的方法。这就是所谓的 \"继承\"。"
   ]
  },
  {
   "cell_type": "markdown",
   "metadata": {},
   "source": [
    "考虑SoftwareEngineer类，它有一个方法salary。"
   ]
  },
  {
   "cell_type": "markdown",
   "metadata": {
    "collapsed": true
   },
   "source": [
    "```python\n",
    "class SoftwareEngineer:\n",
    "    def __init__(self,name,age):\n",
    "        self.name = name\n",
    "        self.age = age\n",
    "    def salary(self, value):\n",
    "        self.money = value\n",
    "        print(self.name,\"earns\",self.money)\n",
    "        ```"
   ]
  },
  {
   "cell_type": "code",
   "execution_count": null,
   "metadata": {},
   "outputs": [],
   "source": []
  },
  {
   "cell_type": "markdown",
   "metadata": {},
   "source": [
    "```python\n",
    "a = SoftwareEngineer('Kartik',26)```"
   ]
  },
  {
   "cell_type": "code",
   "execution_count": null,
   "metadata": {},
   "outputs": [],
   "source": []
  },
  {
   "cell_type": "markdown",
   "metadata": {},
   "source": [
    "```python\n",
    "a.salary(40000)```"
   ]
  },
  {
   "cell_type": "code",
   "execution_count": null,
   "metadata": {},
   "outputs": [],
   "source": []
  },
  {
   "cell_type": "markdown",
   "metadata": {},
   "source": [
    "```python\n",
    "[ name for name in dir(SoftwareEngineer) if not name.startswith(\"_\")]\n",
    "```"
   ]
  },
  {
   "cell_type": "code",
   "execution_count": null,
   "metadata": {},
   "outputs": [],
   "source": []
  },
  {
   "cell_type": "markdown",
   "metadata": {},
   "source": [
    "现在考虑另一个类Artist，告诉我们一个艺术家赚的钱(money)和他的艺术形式(artform)。"
   ]
  },
  {
   "cell_type": "markdown",
   "metadata": {},
   "source": [
    "```python\n",
    "class Artist:\n",
    "    def __init__(self,name,age):\n",
    "        self.name = name\n",
    "        self.age = age\n",
    "    def money(self,value):\n",
    "        self.money = value\n",
    "        print(self.name,\"earns\",self.money)\n",
    "    def artform(self, job):\n",
    "        self.job = job\n",
    "        print(self.name,\"is a\", self.job)\n",
    "        ```"
   ]
  },
  {
   "cell_type": "code",
   "execution_count": null,
   "metadata": {},
   "outputs": [],
   "source": []
  },
  {
   "cell_type": "markdown",
   "metadata": {
    "collapsed": true
   },
   "source": [
    "```python\n",
    "b = Artist('Nitin',20)\n",
    "```"
   ]
  },
  {
   "cell_type": "code",
   "execution_count": null,
   "metadata": {},
   "outputs": [],
   "source": []
  },
  {
   "cell_type": "markdown",
   "metadata": {},
   "source": [
    "```python\n",
    "b.money(50000)\n",
    "b.artform('Musician')\n",
    "```"
   ]
  },
  {
   "cell_type": "code",
   "execution_count": null,
   "metadata": {},
   "outputs": [],
   "source": []
  },
  {
   "cell_type": "markdown",
   "metadata": {},
   "source": [
    "```python\n",
    "[ name for name in dir(b) if not name.startswith(\"_\")]\n",
    "```"
   ]
  },
  {
   "cell_type": "code",
   "execution_count": null,
   "metadata": {},
   "outputs": [],
   "source": []
  },
  {
   "cell_type": "markdown",
   "metadata": {},
   "source": [
    "money和salary是一样的方法。因此，我们可以把方法泛化到salary方法中，把SoftwareEngineer类继承为Artist类。现在，Artist类成了。"
   ]
  },
  {
   "cell_type": "markdown",
   "metadata": {},
   "source": [
    "```python\n",
    "class Artist(SoftwareEngineer):\n",
    "    def artform(self, job):\n",
    "        self.job = job\n",
    "        print (self.name,\"is a\", self.job)\n",
    "        ```"
   ]
  },
  {
   "cell_type": "code",
   "execution_count": null,
   "metadata": {},
   "outputs": [],
   "source": []
  },
  {
   "cell_type": "markdown",
   "metadata": {},
   "source": [
    "```python\n",
    "c = Artist('Nishanth',21)\n",
    "```"
   ]
  },
  {
   "cell_type": "code",
   "execution_count": null,
   "metadata": {},
   "outputs": [],
   "source": []
  },
  {
   "cell_type": "markdown",
   "metadata": {},
   "source": [
    "```python\n",
    "dir(Artist)```"
   ]
  },
  {
   "cell_type": "code",
   "execution_count": null,
   "metadata": {},
   "outputs": [],
   "source": []
  },
  {
   "cell_type": "markdown",
   "metadata": {},
   "source": [
    "```python\n",
    "c.salary(60000)\n",
    "c.artform('Dancer')```"
   ]
  },
  {
   "cell_type": "markdown",
   "metadata": {},
   "source": [
    "假设在继承一个特定的方法时，假设一个方法不适合新类。人们可以通过在新类内部再次定义该方法的同名方法来覆盖这个方法。"
   ]
  },
  {
   "cell_type": "markdown",
   "metadata": {
    "collapsed": true
   },
   "source": [
    "```python\n",
    "class Artist(SoftwareEngineer):\n",
    "    def artform(self, job):\n",
    "        self.job = job\n",
    "        print(self.name,\"is a\", self.job)\n",
    "    def salary(self, value):\n",
    "        self.money = value\n",
    "        print(self.name,\"earns\",self.money)\n",
    "        print(\"I am overriding the SoftwareEngineer class's salary method\")\n",
    "        ```"
   ]
  },
  {
   "cell_type": "code",
   "execution_count": null,
   "metadata": {},
   "outputs": [],
   "source": []
  },
  {
   "cell_type": "markdown",
   "metadata": {
    "collapsed": true
   },
   "source": [
    "```python\n",
    "c = Artist('Nishanth',21)```"
   ]
  },
  {
   "cell_type": "code",
   "execution_count": null,
   "metadata": {},
   "outputs": [],
   "source": []
  },
  {
   "cell_type": "markdown",
   "metadata": {},
   "source": [
    "```python\n",
    "c.salary(60000)\n",
    "c.artform('Dancer')\n",
    "```"
   ]
  },
  {
   "cell_type": "code",
   "execution_count": null,
   "metadata": {},
   "outputs": [],
   "source": []
  },
  {
   "cell_type": "markdown",
   "metadata": {},
   "source": [
    "如果输入参数的数量与实例不同，可以使用星号，如下所示。"
   ]
  },
  {
   "cell_type": "markdown",
   "metadata": {},
   "source": [
    "```python\n",
    "class NotSure:\n",
    "    def __init__(self, *args):\n",
    "        self.data = ' '.join(list(args)) \n",
    "        ```"
   ]
  },
  {
   "cell_type": "code",
   "execution_count": null,
   "metadata": {},
   "outputs": [],
   "source": []
  },
  {
   "cell_type": "markdown",
   "metadata": {},
   "source": [
    "```python\n",
    "yz = NotSure('I', 'Do' , 'Not', 'Know', 'What', 'To','Type')\n",
    "```"
   ]
  },
  {
   "cell_type": "code",
   "execution_count": null,
   "metadata": {},
   "outputs": [],
   "source": []
  },
  {
   "cell_type": "markdown",
   "metadata": {},
   "source": [
    "```python\n",
    "yz.data```"
   ]
  },
  {
   "cell_type": "code",
   "execution_count": null,
   "metadata": {},
   "outputs": [],
   "source": []
  },
  {
   "cell_type": "markdown",
   "metadata": {},
   "source": [
    "## 反射\n",
    "我们已经看到了`dir()`函数，用于查看类中的内容。Python有很多工具可以让反射变得简单（也就是找出Python对象或模块中的内容）。一些有用的函数是 **hasattr***、**getattr**和**setattr**。"
   ]
  },
  {
   "cell_type": "markdown",
   "metadata": {},
   "source": [
    "```python\n",
    "ns = NotSure('test')\n",
    "if hasattr(ns,'data'): # 检测ns.data是否存在\n",
    "    setattr(ns,'copy', # 设置ns.copy\n",
    "            getattr(ns,'data')) # 访问ns.data\n",
    "print('ns.copy =',ns.copy)\n",
    "```"
   ]
  },
  {
   "cell_type": "code",
   "execution_count": null,
   "metadata": {},
   "outputs": [],
   "source": []
  }
 ],
 "metadata": {
  "kernelspec": {
   "display_name": "Python 3",
   "language": "python",
   "name": "python3"
  },
  "language_info": {
   "codemirror_mode": {
    "name": "ipython",
    "version": 3
   },
   "file_extension": ".py",
   "mimetype": "text/x-python",
   "name": "python",
   "nbconvert_exporter": "python",
   "pygments_lexer": "ipython3",
   "version": "3.7.3"
  }
 },
 "nbformat": 4,
 "nbformat_minor": 1
}
